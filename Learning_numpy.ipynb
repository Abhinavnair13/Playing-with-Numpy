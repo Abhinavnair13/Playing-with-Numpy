{
  "nbformat": 4,
  "nbformat_minor": 0,
  "metadata": {
    "colab": {
      "provenance": [],
      "toc_visible": true,
      "mount_file_id": "1pg0XMzOZRDQ_AEQWRyvm8Nu0WXU1ElUh",
      "authorship_tag": "ABX9TyNez2PwIgqWOsGwrvZ1a7tl",
      "include_colab_link": true
    },
    "kernelspec": {
      "name": "python3",
      "display_name": "Python 3"
    },
    "language_info": {
      "name": "python"
    }
  },
  "cells": [
    {
      "cell_type": "markdown",
      "metadata": {
        "id": "view-in-github",
        "colab_type": "text"
      },
      "source": [
        "<a href=\"https://colab.research.google.com/github/Abhinavnair13/Playing-with-Numpy/blob/main/Learning_numpy.ipynb\" target=\"_parent\"><img src=\"https://colab.research.google.com/assets/colab-badge.svg\" alt=\"Open In Colab\"/></a>"
      ]
    },
    {
      "cell_type": "code",
      "execution_count": 2,
      "metadata": {
        "id": "1nrNq3enhJfm"
      },
      "outputs": [],
      "source": [
        "import numpy as np"
      ]
    },
    {
      "cell_type": "code",
      "source": [
        "a = np.array([1,2,3],dtype='int16')\n",
        "a"
      ],
      "metadata": {
        "colab": {
          "base_uri": "https://localhost:8080/"
        },
        "id": "CLj6Bw3hhf1S",
        "outputId": "23a946a5-e507-4d2c-b70f-ca5a616778be"
      },
      "execution_count": null,
      "outputs": [
        {
          "output_type": "execute_result",
          "data": {
            "text/plain": [
              "array([1, 2, 3], dtype=int16)"
            ]
          },
          "metadata": {},
          "execution_count": 24
        }
      ]
    },
    {
      "cell_type": "code",
      "source": [
        "b = np.array([[2.8,3.0,4],[2,4,4.2]])\n"
      ],
      "metadata": {
        "colab": {
          "base_uri": "https://localhost:8080/"
        },
        "id": "_ttCl4LhiAAu",
        "outputId": "47da696d-3681-4e23-8cbc-736a8142c713"
      },
      "execution_count": null,
      "outputs": [
        {
          "output_type": "execute_result",
          "data": {
            "text/plain": [
              "array([[2.8, 3. , 4. ],\n",
              "       [2. , 4. , 4.2]])"
            ]
          },
          "metadata": {},
          "execution_count": 7
        }
      ]
    },
    {
      "cell_type": "code",
      "source": [
        "b.ndim\n"
      ],
      "metadata": {
        "colab": {
          "base_uri": "https://localhost:8080/"
        },
        "id": "qgB9RN3zxctK",
        "outputId": "749acdb9-492c-417f-fb37-6f154391481b"
      },
      "execution_count": null,
      "outputs": [
        {
          "output_type": "execute_result",
          "data": {
            "text/plain": [
              "2"
            ]
          },
          "metadata": {},
          "execution_count": 9
        }
      ]
    },
    {
      "cell_type": "code",
      "source": [
        "a.shape"
      ],
      "metadata": {
        "colab": {
          "base_uri": "https://localhost:8080/"
        },
        "id": "uLEgtch3xwK-",
        "outputId": "358e7ca5-00ce-46de-8fda-882af793a01d"
      },
      "execution_count": null,
      "outputs": [
        {
          "output_type": "execute_result",
          "data": {
            "text/plain": [
              "(3,)"
            ]
          },
          "metadata": {},
          "execution_count": 11
        }
      ]
    },
    {
      "cell_type": "code",
      "source": [
        "b.shape\n"
      ],
      "metadata": {
        "colab": {
          "base_uri": "https://localhost:8080/"
        },
        "id": "xm1Ndllox5Ye",
        "outputId": "8e817ed8-a5bc-4906-a80a-148c8fef3268"
      },
      "execution_count": null,
      "outputs": [
        {
          "output_type": "execute_result",
          "data": {
            "text/plain": [
              "(2, 3)"
            ]
          },
          "metadata": {},
          "execution_count": 12
        }
      ]
    },
    {
      "cell_type": "code",
      "source": [
        "c= np.array([[2,3,4],[1,2,3],[1,2,4]])\n",
        "c.shape"
      ],
      "metadata": {
        "colab": {
          "base_uri": "https://localhost:8080/"
        },
        "id": "5ffT5zbax-mj",
        "outputId": "e8676fc1-8a16-4ef9-a48d-7d59da2066c3"
      },
      "execution_count": null,
      "outputs": [
        {
          "output_type": "execute_result",
          "data": {
            "text/plain": [
              "(3, 3)"
            ]
          },
          "metadata": {},
          "execution_count": 17
        }
      ]
    },
    {
      "cell_type": "code",
      "source": [
        "#get type\n",
        "a.dtype\n"
      ],
      "metadata": {
        "colab": {
          "base_uri": "https://localhost:8080/"
        },
        "id": "Ak8XiWGOyIEg",
        "outputId": "83c5b675-3786-40d8-d83e-b81044b7c1f0"
      },
      "execution_count": null,
      "outputs": [
        {
          "output_type": "execute_result",
          "data": {
            "text/plain": [
              "dtype('int16')"
            ]
          },
          "metadata": {},
          "execution_count": 22
        }
      ]
    },
    {
      "cell_type": "code",
      "source": [
        "#get size(16 bits(8 each))\n",
        "a.itemsize"
      ],
      "metadata": {
        "colab": {
          "base_uri": "https://localhost:8080/"
        },
        "id": "eg062LOqyYeb",
        "outputId": "d7c8206e-c7fc-4bba-ac20-aac7a658db8b"
      },
      "execution_count": null,
      "outputs": [
        {
          "output_type": "execute_result",
          "data": {
            "text/plain": [
              "2"
            ]
          },
          "metadata": {},
          "execution_count": 25
        }
      ]
    },
    {
      "cell_type": "code",
      "source": [
        "#total size\n",
        "a.itemsize*a.size\n",
        "#or\n",
        "a.nbytes"
      ],
      "metadata": {
        "colab": {
          "base_uri": "https://localhost:8080/"
        },
        "id": "rDptX5FYyt8q",
        "outputId": "3edf1171-06f0-46cd-a2bc-904457a6c659"
      },
      "execution_count": null,
      "outputs": [
        {
          "output_type": "execute_result",
          "data": {
            "text/plain": [
              "6"
            ]
          },
          "metadata": {},
          "execution_count": 31
        }
      ]
    },
    {
      "cell_type": "code",
      "source": [
        "b.nbytes"
      ],
      "metadata": {
        "colab": {
          "base_uri": "https://localhost:8080/"
        },
        "id": "F_MxHWoTzG1i",
        "outputId": "da177274-57b0-4578-d9f5-c57a9d460499"
      },
      "execution_count": null,
      "outputs": [
        {
          "output_type": "execute_result",
          "data": {
            "text/plain": [
              "48"
            ]
          },
          "metadata": {},
          "execution_count": 32
        }
      ]
    },
    {
      "cell_type": "code",
      "source": [
        "d = np.array([[1,2,3,4,5,6,7],[9,8,7,6,5,4,3]])\n",
        "print(d)"
      ],
      "metadata": {
        "colab": {
          "base_uri": "https://localhost:8080/"
        },
        "id": "N8ixTjN8zhSM",
        "outputId": "993e7112-af6b-4c44-fb2a-9da65e30efce"
      },
      "execution_count": null,
      "outputs": [
        {
          "output_type": "stream",
          "name": "stdout",
          "text": [
            "[[1 2 3 4 5 6 7]\n",
            " [9 8 7 6 5 4 3]]\n"
          ]
        }
      ]
    },
    {
      "cell_type": "code",
      "source": [
        "d[0][3]\n",
        "d.shape"
      ],
      "metadata": {
        "colab": {
          "base_uri": "https://localhost:8080/"
        },
        "id": "LqOPMifSz8uY",
        "outputId": "b177544f-cadc-4ae1-c6d9-f45b63ca1352"
      },
      "execution_count": null,
      "outputs": [
        {
          "output_type": "execute_result",
          "data": {
            "text/plain": [
              "(2, 7)"
            ]
          },
          "metadata": {},
          "execution_count": 35
        }
      ]
    },
    {
      "cell_type": "code",
      "source": [
        "d[0]"
      ],
      "metadata": {
        "colab": {
          "base_uri": "https://localhost:8080/"
        },
        "id": "PH97G03M0ASh",
        "outputId": "88102480-f48e-4761-8a8c-60e22138a177"
      },
      "execution_count": null,
      "outputs": [
        {
          "output_type": "execute_result",
          "data": {
            "text/plain": [
              "array([1, 2, 3, 4, 5, 6, 7])"
            ]
          },
          "metadata": {},
          "execution_count": 36
        }
      ]
    },
    {
      "cell_type": "code",
      "source": [
        "d[:,1]"
      ],
      "metadata": {
        "colab": {
          "base_uri": "https://localhost:8080/"
        },
        "id": "KDTnHpOb0KLC",
        "outputId": "88236583-6d1b-4f22-8b88-7aaa903385f4"
      },
      "execution_count": null,
      "outputs": [
        {
          "output_type": "execute_result",
          "data": {
            "text/plain": [
              "array([2, 8])"
            ]
          },
          "metadata": {},
          "execution_count": 39
        }
      ]
    },
    {
      "cell_type": "code",
      "source": [
        "d.shape"
      ],
      "metadata": {
        "colab": {
          "base_uri": "https://localhost:8080/"
        },
        "id": "Aj3JZzYs0O5e",
        "outputId": "e174f662-d189-4b25-a7c3-9aa29985d451"
      },
      "execution_count": null,
      "outputs": [
        {
          "output_type": "execute_result",
          "data": {
            "text/plain": [
              "(2, 7)"
            ]
          },
          "metadata": {},
          "execution_count": 40
        }
      ]
    },
    {
      "cell_type": "code",
      "source": [
        "#getting more fancy [startindex:endindex:stepsize]\n",
        "d[0,1:6:2]"
      ],
      "metadata": {
        "colab": {
          "base_uri": "https://localhost:8080/"
        },
        "id": "zDOcnWHv0XhO",
        "outputId": "85604f9d-3d92-400e-9c2b-072ba4d400e4"
      },
      "execution_count": null,
      "outputs": [
        {
          "output_type": "execute_result",
          "data": {
            "text/plain": [
              "array([2, 4, 6])"
            ]
          },
          "metadata": {},
          "execution_count": 44
        }
      ]
    },
    {
      "cell_type": "code",
      "source": [
        "d[1,3] =3"
      ],
      "metadata": {
        "id": "cGfav8QV0od1"
      },
      "execution_count": null,
      "outputs": []
    },
    {
      "cell_type": "code",
      "source": [
        "d"
      ],
      "metadata": {
        "colab": {
          "base_uri": "https://localhost:8080/"
        },
        "id": "CHOQJXuN1bM6",
        "outputId": "61d298d8-556a-423f-f6a6-e41400bd4d75"
      },
      "execution_count": null,
      "outputs": [
        {
          "output_type": "execute_result",
          "data": {
            "text/plain": [
              "array([[1, 2, 3, 4, 5, 6, 7],\n",
              "       [9, 8, 7, 3, 5, 4, 3]])"
            ]
          },
          "metadata": {},
          "execution_count": 47
        }
      ]
    },
    {
      "cell_type": "code",
      "source": [
        "#for every row, its 3rd column would be 2 & 9 respectively\n",
        "d[:,3] =[2,9]"
      ],
      "metadata": {
        "id": "6KZTI-Ip1kOl"
      },
      "execution_count": null,
      "outputs": []
    },
    {
      "cell_type": "code",
      "source": [
        "d\n"
      ],
      "metadata": {
        "colab": {
          "base_uri": "https://localhost:8080/"
        },
        "id": "T4VBt3G218Gn",
        "outputId": "b9c18115-e5af-4c06-ed57-874d7af528cb"
      },
      "execution_count": null,
      "outputs": [
        {
          "output_type": "execute_result",
          "data": {
            "text/plain": [
              "array([[1, 2, 3, 2, 5, 6, 7],\n",
              "       [9, 8, 7, 9, 5, 4, 3]])"
            ]
          },
          "metadata": {},
          "execution_count": 49
        }
      ]
    },
    {
      "cell_type": "code",
      "source": [
        "b  = np.array([[[1,2]]])\n",
        "b.shape"
      ],
      "metadata": {
        "colab": {
          "base_uri": "https://localhost:8080/"
        },
        "id": "rGYw7K9J188m",
        "outputId": "51ddd161-c442-4aae-e1f9-13a677e0bb15"
      },
      "execution_count": null,
      "outputs": [
        {
          "output_type": "execute_result",
          "data": {
            "text/plain": [
              "(1, 1, 2)"
            ]
          },
          "metadata": {},
          "execution_count": 50
        }
      ]
    },
    {
      "cell_type": "code",
      "source": [
        "b"
      ],
      "metadata": {
        "colab": {
          "base_uri": "https://localhost:8080/"
        },
        "id": "iob_plL52XSL",
        "outputId": "b5136069-7a0f-46d0-8edb-85bade96bfb8"
      },
      "execution_count": null,
      "outputs": [
        {
          "output_type": "execute_result",
          "data": {
            "text/plain": [
              "array([[[1, 2]]])"
            ]
          },
          "metadata": {},
          "execution_count": 51
        }
      ]
    },
    {
      "cell_type": "code",
      "source": [
        "print(b)"
      ],
      "metadata": {
        "colab": {
          "base_uri": "https://localhost:8080/"
        },
        "id": "RklaZVFN2Yi2",
        "outputId": "e80e6c9a-271d-4b47-fc5d-0a9a52b9c03d"
      },
      "execution_count": null,
      "outputs": [
        {
          "output_type": "stream",
          "name": "stdout",
          "text": [
            "[[[1 2]]]\n"
          ]
        }
      ]
    },
    {
      "cell_type": "code",
      "source": [
        "b= np.array([[[1,2],[8,9]],[[3,4],[5,6]]])\n",
        "print(b)"
      ],
      "metadata": {
        "colab": {
          "base_uri": "https://localhost:8080/"
        },
        "id": "dHpPP_9v2ayp",
        "outputId": "2150a6ac-8b6a-45c5-d9fe-5b81a159e6cc"
      },
      "execution_count": 4,
      "outputs": [
        {
          "output_type": "stream",
          "name": "stdout",
          "text": [
            "[[[1 2]\n",
            "  [8 9]]\n",
            "\n",
            " [[3 4]\n",
            "  [5 6]]]\n"
          ]
        }
      ]
    },
    {
      "cell_type": "code",
      "source": [
        "b.shape"
      ],
      "metadata": {
        "id": "If1Vxdc02gHs",
        "colab": {
          "base_uri": "https://localhost:8080/"
        },
        "outputId": "4619e47b-d390-4c72-9d5d-75d3eb5bd442"
      },
      "execution_count": 5,
      "outputs": [
        {
          "output_type": "execute_result",
          "data": {
            "text/plain": [
              "(2, 2, 2)"
            ]
          },
          "metadata": {},
          "execution_count": 5
        }
      ]
    },
    {
      "cell_type": "code",
      "source": [
        "b[:,1,1]"
      ],
      "metadata": {
        "colab": {
          "base_uri": "https://localhost:8080/"
        },
        "id": "vbNIGfTAdBhK",
        "outputId": "41c28181-83ee-47ac-9497-5a8a5f26ad1e"
      },
      "execution_count": 7,
      "outputs": [
        {
          "output_type": "execute_result",
          "data": {
            "text/plain": [
              "array([9, 6])"
            ]
          },
          "metadata": {},
          "execution_count": 7
        }
      ]
    },
    {
      "cell_type": "code",
      "source": [
        "b[:,1,1]=([6,9])"
      ],
      "metadata": {
        "id": "TMkP9iN2h92t"
      },
      "execution_count": 8,
      "outputs": []
    },
    {
      "cell_type": "code",
      "source": [
        "b"
      ],
      "metadata": {
        "colab": {
          "base_uri": "https://localhost:8080/"
        },
        "id": "IL9IPkUWiQH_",
        "outputId": "1f6e610e-8e92-4be3-aadd-a3d4bc74ed69"
      },
      "execution_count": 9,
      "outputs": [
        {
          "output_type": "execute_result",
          "data": {
            "text/plain": [
              "array([[[1, 2],\n",
              "        [8, 6]],\n",
              "\n",
              "       [[3, 4],\n",
              "        [5, 9]]])"
            ]
          },
          "metadata": {},
          "execution_count": 9
        }
      ]
    },
    {
      "cell_type": "code",
      "source": [
        "b[:,1,:]"
      ],
      "metadata": {
        "colab": {
          "base_uri": "https://localhost:8080/"
        },
        "id": "t5epyVMeiSi3",
        "outputId": "ffa54f66-709b-4206-abc2-9c41e75afc2c"
      },
      "execution_count": 10,
      "outputs": [
        {
          "output_type": "execute_result",
          "data": {
            "text/plain": [
              "array([[8, 6],\n",
              "       [5, 9]])"
            ]
          },
          "metadata": {},
          "execution_count": 10
        }
      ]
    },
    {
      "cell_type": "code",
      "source": [
        "b[:,1,:]= [[1,2],[9,0]]"
      ],
      "metadata": {
        "id": "_fJMlVZYiWun"
      },
      "execution_count": 14,
      "outputs": []
    },
    {
      "cell_type": "code",
      "source": [
        "b\n"
      ],
      "metadata": {
        "colab": {
          "base_uri": "https://localhost:8080/"
        },
        "id": "0jdh-kfPiaoS",
        "outputId": "e37e0197-7c4d-43fc-a903-2461f3736dc2"
      },
      "execution_count": 15,
      "outputs": [
        {
          "output_type": "execute_result",
          "data": {
            "text/plain": [
              "array([[[1, 2],\n",
              "        [1, 2]],\n",
              "\n",
              "       [[3, 4],\n",
              "        [9, 0]]])"
            ]
          },
          "metadata": {},
          "execution_count": 15
        }
      ]
    },
    {
      "cell_type": "code",
      "source": [
        "np.zeros((2,3,2),dtype='int16')"
      ],
      "metadata": {
        "colab": {
          "base_uri": "https://localhost:8080/"
        },
        "id": "ZYg3cLR6ibt7",
        "outputId": "31a00a06-9452-4ead-f05a-fd67a602b1e9"
      },
      "execution_count": 18,
      "outputs": [
        {
          "output_type": "execute_result",
          "data": {
            "text/plain": [
              "array([[[0, 0],\n",
              "        [0, 0],\n",
              "        [0, 0]],\n",
              "\n",
              "       [[0, 0],\n",
              "        [0, 0],\n",
              "        [0, 0]]], dtype=int16)"
            ]
          },
          "metadata": {},
          "execution_count": 18
        }
      ]
    },
    {
      "cell_type": "code",
      "source": [
        "np.ones((4,5,2,3),dtype = 'int32')"
      ],
      "metadata": {
        "colab": {
          "base_uri": "https://localhost:8080/"
        },
        "id": "eFeYO-ZPlKEH",
        "outputId": "3653e153-ebdb-4805-f545-1d4fda359a3d"
      },
      "execution_count": 19,
      "outputs": [
        {
          "output_type": "execute_result",
          "data": {
            "text/plain": [
              "array([[[[1, 1, 1],\n",
              "         [1, 1, 1]],\n",
              "\n",
              "        [[1, 1, 1],\n",
              "         [1, 1, 1]],\n",
              "\n",
              "        [[1, 1, 1],\n",
              "         [1, 1, 1]],\n",
              "\n",
              "        [[1, 1, 1],\n",
              "         [1, 1, 1]],\n",
              "\n",
              "        [[1, 1, 1],\n",
              "         [1, 1, 1]]],\n",
              "\n",
              "\n",
              "       [[[1, 1, 1],\n",
              "         [1, 1, 1]],\n",
              "\n",
              "        [[1, 1, 1],\n",
              "         [1, 1, 1]],\n",
              "\n",
              "        [[1, 1, 1],\n",
              "         [1, 1, 1]],\n",
              "\n",
              "        [[1, 1, 1],\n",
              "         [1, 1, 1]],\n",
              "\n",
              "        [[1, 1, 1],\n",
              "         [1, 1, 1]]],\n",
              "\n",
              "\n",
              "       [[[1, 1, 1],\n",
              "         [1, 1, 1]],\n",
              "\n",
              "        [[1, 1, 1],\n",
              "         [1, 1, 1]],\n",
              "\n",
              "        [[1, 1, 1],\n",
              "         [1, 1, 1]],\n",
              "\n",
              "        [[1, 1, 1],\n",
              "         [1, 1, 1]],\n",
              "\n",
              "        [[1, 1, 1],\n",
              "         [1, 1, 1]]],\n",
              "\n",
              "\n",
              "       [[[1, 1, 1],\n",
              "         [1, 1, 1]],\n",
              "\n",
              "        [[1, 1, 1],\n",
              "         [1, 1, 1]],\n",
              "\n",
              "        [[1, 1, 1],\n",
              "         [1, 1, 1]],\n",
              "\n",
              "        [[1, 1, 1],\n",
              "         [1, 1, 1]],\n",
              "\n",
              "        [[1, 1, 1],\n",
              "         [1, 1, 1]]]], dtype=int32)"
            ]
          },
          "metadata": {},
          "execution_count": 19
        }
      ]
    },
    {
      "cell_type": "code",
      "source": [
        "np.full((2,3,4),78)"
      ],
      "metadata": {
        "colab": {
          "base_uri": "https://localhost:8080/"
        },
        "id": "5VDYapzfljbq",
        "outputId": "86b28154-fd73-499f-80a3-ff53ffdd0b6a"
      },
      "execution_count": 20,
      "outputs": [
        {
          "output_type": "execute_result",
          "data": {
            "text/plain": [
              "array([[[78, 78, 78, 78],\n",
              "        [78, 78, 78, 78],\n",
              "        [78, 78, 78, 78]],\n",
              "\n",
              "       [[78, 78, 78, 78],\n",
              "        [78, 78, 78, 78],\n",
              "        [78, 78, 78, 78]]])"
            ]
          },
          "metadata": {},
          "execution_count": 20
        }
      ]
    },
    {
      "cell_type": "code",
      "source": [
        "np.full_like(b,4)"
      ],
      "metadata": {
        "colab": {
          "base_uri": "https://localhost:8080/"
        },
        "id": "nSoKM-r1l1NL",
        "outputId": "7ccfe2a5-4d75-4112-a561-d0c122e4fe9c"
      },
      "execution_count": 22,
      "outputs": [
        {
          "output_type": "execute_result",
          "data": {
            "text/plain": [
              "array([[[4, 4],\n",
              "        [4, 4]],\n",
              "\n",
              "       [[4, 4],\n",
              "        [4, 4]]])"
            ]
          },
          "metadata": {},
          "execution_count": 22
        }
      ]
    },
    {
      "cell_type": "code",
      "source": [
        "c = np.random.randint((2,4,5),dtype='int32')\n",
        "c\n",
        "c"
      ],
      "metadata": {
        "colab": {
          "base_uri": "https://localhost:8080/"
        },
        "id": "mmS3DcZOm3z3",
        "outputId": "ebfd2ab7-5e6c-4b2d-a2eb-874cbb165445"
      },
      "execution_count": 28,
      "outputs": [
        {
          "output_type": "execute_result",
          "data": {
            "text/plain": [
              "array([1, 3, 2], dtype=int32)"
            ]
          },
          "metadata": {},
          "execution_count": 28
        }
      ]
    },
    {
      "cell_type": "code",
      "source": [
        "#for generating random int ,below are the parameters\n",
        "d = np.random.randint(low=2,high=10,size=(3,3,3),dtype='int32')\n",
        "print(d)\n"
      ],
      "metadata": {
        "colab": {
          "base_uri": "https://localhost:8080/"
        },
        "id": "aazrNX5UnOxA",
        "outputId": "9047f7c9-821d-4704-aec3-4da0ce8f7667"
      },
      "execution_count": 31,
      "outputs": [
        {
          "output_type": "stream",
          "name": "stdout",
          "text": [
            "[[[8 2 2]\n",
            "  [2 9 6]\n",
            "  [9 2 3]]\n",
            "\n",
            " [[4 3 4]\n",
            "  [3 6 3]\n",
            "  [9 3 4]]\n",
            "\n",
            " [[4 4 3]\n",
            "  [6 3 7]\n",
            "  [8 4 6]]]\n"
          ]
        }
      ]
    },
    {
      "cell_type": "code",
      "source": [
        "#identity matrix, by nature it is a square matrix so we only need one parameter\n",
        "np.identity(3)"
      ],
      "metadata": {
        "colab": {
          "base_uri": "https://localhost:8080/"
        },
        "id": "5Oc_Ek7vn1ol",
        "outputId": "3ef8c111-7598-48f5-f605-7b587d6c6c24"
      },
      "execution_count": 34,
      "outputs": [
        {
          "output_type": "execute_result",
          "data": {
            "text/plain": [
              "array([[1., 0., 0.],\n",
              "       [0., 1., 0.],\n",
              "       [0., 0., 1.]])"
            ]
          },
          "metadata": {},
          "execution_count": 34
        }
      ]
    },
    {
      "cell_type": "code",
      "source": [
        "#repeating an array\n",
        "#if axis = 0 , repition is done along the rows, if axis = 1 , repetition is done along columns\n",
        "#repeat(which dataset u want to copy,times to copy,axis)\n",
        "print(x)\n",
        "r1 = np.repeat(x,3,axis=0)\n",
        "print(r1)"
      ],
      "metadata": {
        "colab": {
          "base_uri": "https://localhost:8080/"
        },
        "id": "PwKeZlsF6ChX",
        "outputId": "56ce51ae-05d3-42b6-b187-79b8cef78e6a"
      },
      "execution_count": 61,
      "outputs": [
        {
          "output_type": "stream",
          "name": "stdout",
          "text": [
            "[[1 2 3]]\n",
            "[[1 2 3]\n",
            " [1 2 3]\n",
            " [1 2 3]]\n"
          ]
        }
      ]
    },
    {
      "cell_type": "code",
      "source": [
        "r1 = np.repeat(x,3,axis=0)\n",
        "print(r1)"
      ],
      "metadata": {
        "colab": {
          "base_uri": "https://localhost:8080/"
        },
        "id": "My9G-AZT65ew",
        "outputId": "71a58bcd-faa1-490f-c4a5-f175a9858bdf"
      },
      "execution_count": 43,
      "outputs": [
        {
          "output_type": "stream",
          "name": "stdout",
          "text": [
            "[[1 2 3]\n",
            " [1 2 3]\n",
            " [1 2 3]]\n"
          ]
        }
      ]
    },
    {
      "cell_type": "code",
      "source": [
        "\n",
        "# Suppose we have a 3D array with shape (2, 3, 3), representing two 3x3 matrices\n",
        "matrices = np.array([[[1, 2, 3],\n",
        "                      [4, 5, 6],\n",
        "                      [7, 8, 9]],\n",
        "\n",
        "                     [[10, 11, 12],\n",
        "                      [13, 14, 15],\n",
        "                      [16, 17, 18]]])\n",
        "\n",
        "# Repeat each matrix 4 times along a new axis (axis=2)\n",
        "repeated_matrices = np.repeat(matrices, repeats=4, axis=2)\n",
        "\n",
        "print(\"Original array shape:\\n\", matrices)#2,3,3\n",
        "print(\"Repeated array shape:\\n\", repeated_matrices)#2,3,4,3\n",
        "#axis =0 matlab layer ke copy bane\n"
      ],
      "metadata": {
        "colab": {
          "base_uri": "https://localhost:8080/"
        },
        "id": "idWZqVid7t2w",
        "outputId": "1704a4e8-5f2f-4364-f619-681699f3c984"
      },
      "execution_count": 59,
      "outputs": [
        {
          "output_type": "stream",
          "name": "stdout",
          "text": [
            "Original array shape:\n",
            " [[[ 1  2  3]\n",
            "  [ 4  5  6]\n",
            "  [ 7  8  9]]\n",
            "\n",
            " [[10 11 12]\n",
            "  [13 14 15]\n",
            "  [16 17 18]]]\n",
            "Repeated array shape:\n",
            " [[[ 1  1  1  1  2  2  2  2  3  3  3  3]\n",
            "  [ 4  4  4  4  5  5  5  5  6  6  6  6]\n",
            "  [ 7  7  7  7  8  8  8  8  9  9  9  9]]\n",
            "\n",
            " [[10 10 10 10 11 11 11 11 12 12 12 12]\n",
            "  [13 13 13 13 14 14 14 14 15 15 15 15]\n",
            "  [16 16 16 16 17 17 17 17 18 18 18 18]]]\n"
          ]
        }
      ]
    },
    {
      "cell_type": "code",
      "source": [
        "#print this\n",
        "# 11111\n",
        "# 10001\n",
        "# 10901\n",
        "# 10001\n",
        "# 11111\n",
        "output = np.ones((5,5),dtype='int32')\n",
        "output"
      ],
      "metadata": {
        "colab": {
          "base_uri": "https://localhost:8080/"
        },
        "id": "0YJUAczQ9gRu",
        "outputId": "0eca33d0-b304-4d02-e7c0-88b4c156665c"
      },
      "execution_count": 4,
      "outputs": [
        {
          "output_type": "execute_result",
          "data": {
            "text/plain": [
              "array([[1, 1, 1, 1, 1],\n",
              "       [1, 1, 1, 1, 1],\n",
              "       [1, 1, 1, 1, 1],\n",
              "       [1, 1, 1, 1, 1],\n",
              "       [1, 1, 1, 1, 1]], dtype=int32)"
            ]
          },
          "metadata": {},
          "execution_count": 4
        }
      ]
    },
    {
      "cell_type": "code",
      "source": [
        "z = np.zeros((3,3),dtype='int32')\n",
        "z"
      ],
      "metadata": {
        "colab": {
          "base_uri": "https://localhost:8080/"
        },
        "id": "WI2X_qP-svv3",
        "outputId": "ba946a58-4a40-4123-b856-da0af43a209c"
      },
      "execution_count": 5,
      "outputs": [
        {
          "output_type": "execute_result",
          "data": {
            "text/plain": [
              "array([[0, 0, 0],\n",
              "       [0, 0, 0],\n",
              "       [0, 0, 0]], dtype=int32)"
            ]
          },
          "metadata": {},
          "execution_count": 5
        }
      ]
    },
    {
      "cell_type": "code",
      "source": [
        "z[1,1]=9"
      ],
      "metadata": {
        "id": "mYw7OWdfs3Ie"
      },
      "execution_count": 6,
      "outputs": []
    },
    {
      "cell_type": "code",
      "source": [
        "output[1:4,1:4]=z"
      ],
      "metadata": {
        "id": "F4qWMUmes5ng"
      },
      "execution_count": 10,
      "outputs": []
    },
    {
      "cell_type": "code",
      "source": [
        "output"
      ],
      "metadata": {
        "colab": {
          "base_uri": "https://localhost:8080/"
        },
        "id": "KbmN8GcLtJiq",
        "outputId": "a1c603b5-6934-453b-9670-7575ab3146c5"
      },
      "execution_count": 11,
      "outputs": [
        {
          "output_type": "execute_result",
          "data": {
            "text/plain": [
              "array([[1, 1, 1, 1, 1],\n",
              "       [1, 0, 0, 0, 1],\n",
              "       [1, 0, 9, 0, 1],\n",
              "       [1, 0, 0, 0, 1],\n",
              "       [1, 1, 1, 1, 1]], dtype=int32)"
            ]
          },
          "metadata": {},
          "execution_count": 11
        }
      ]
    },
    {
      "cell_type": "code",
      "source": [
        "a = np.array([1,3,4])\n",
        "b=a\n",
        "b[0]=100\n",
        "print(a)#a=>[100,3,4]\n"
      ],
      "metadata": {
        "colab": {
          "base_uri": "https://localhost:8080/"
        },
        "id": "8XLtIkVHtUAP",
        "outputId": "ac4df4bf-9593-4d36-fb97-10a53e47cfe9"
      },
      "execution_count": 14,
      "outputs": [
        {
          "output_type": "stream",
          "name": "stdout",
          "text": [
            "[1 3 4]\n"
          ]
        }
      ]
    },
    {
      "cell_type": "markdown",
      "source": [
        "To prevent this we have to initialize b as a copy of a\n"
      ],
      "metadata": {
        "id": "lFE54mZHubUz"
      }
    },
    {
      "cell_type": "code",
      "source": [
        "b=a.copy()\n",
        "b[0]=100\n",
        "print(a)"
      ],
      "metadata": {
        "colab": {
          "base_uri": "https://localhost:8080/"
        },
        "id": "majKNWOzuf7j",
        "outputId": "dce55f87-ddee-4e8f-e25d-781eda6cfe20"
      },
      "execution_count": 15,
      "outputs": [
        {
          "output_type": "stream",
          "name": "stdout",
          "text": [
            "[1 3 4]\n"
          ]
        }
      ]
    },
    {
      "cell_type": "markdown",
      "source": [
        "#Numpy Mathematics\n"
      ],
      "metadata": {
        "id": "sY-1iT25vcM0"
      }
    },
    {
      "cell_type": "code",
      "source": [
        "a =np.array([1,2,3,4])\n",
        "print(a+2)"
      ],
      "metadata": {
        "colab": {
          "base_uri": "https://localhost:8080/"
        },
        "id": "zmbjRgfQviTv",
        "outputId": "25c19eb7-ee6c-4811-8ea7-ae51a9ad1647"
      },
      "execution_count": 16,
      "outputs": [
        {
          "output_type": "stream",
          "name": "stdout",
          "text": [
            "[3 4 5 6]\n"
          ]
        }
      ]
    },
    {
      "cell_type": "code",
      "source": [
        "a"
      ],
      "metadata": {
        "colab": {
          "base_uri": "https://localhost:8080/"
        },
        "id": "RqKEjc9-vk3j",
        "outputId": "310d3d59-9071-44da-8ffa-32812b98363e"
      },
      "execution_count": 17,
      "outputs": [
        {
          "output_type": "execute_result",
          "data": {
            "text/plain": [
              "array([1, 2, 3, 4])"
            ]
          },
          "metadata": {},
          "execution_count": 17
        }
      ]
    },
    {
      "cell_type": "code",
      "source": [
        "a-2"
      ],
      "metadata": {
        "colab": {
          "base_uri": "https://localhost:8080/"
        },
        "id": "8QoYR894vl3B",
        "outputId": "0d40c135-a01c-4d89-8654-7e3d1d924851"
      },
      "execution_count": 18,
      "outputs": [
        {
          "output_type": "execute_result",
          "data": {
            "text/plain": [
              "array([-1,  0,  1,  2])"
            ]
          },
          "metadata": {},
          "execution_count": 18
        }
      ]
    },
    {
      "cell_type": "code",
      "source": [
        "a/2"
      ],
      "metadata": {
        "colab": {
          "base_uri": "https://localhost:8080/"
        },
        "id": "4p6_7_Wavo33",
        "outputId": "9d69c373-c38a-4e8b-f40a-e8f2ae051551"
      },
      "execution_count": 19,
      "outputs": [
        {
          "output_type": "execute_result",
          "data": {
            "text/plain": [
              "array([0.5, 1. , 1.5, 2. ])"
            ]
          },
          "metadata": {},
          "execution_count": 19
        }
      ]
    },
    {
      "cell_type": "code",
      "source": [
        "a*2"
      ],
      "metadata": {
        "colab": {
          "base_uri": "https://localhost:8080/"
        },
        "id": "gaFoEDaQvp7c",
        "outputId": "1fdd3305-2273-4580-ab9e-bb4b921de152"
      },
      "execution_count": 20,
      "outputs": [
        {
          "output_type": "execute_result",
          "data": {
            "text/plain": [
              "array([2, 4, 6, 8])"
            ]
          },
          "metadata": {},
          "execution_count": 20
        }
      ]
    },
    {
      "cell_type": "code",
      "source": [
        "a**2"
      ],
      "metadata": {
        "colab": {
          "base_uri": "https://localhost:8080/"
        },
        "id": "7Wa34c8qvq93",
        "outputId": "cb4186e8-e9a3-4355-892d-e90ca7fc5822"
      },
      "execution_count": 21,
      "outputs": [
        {
          "output_type": "execute_result",
          "data": {
            "text/plain": [
              "array([ 1,  4,  9, 16])"
            ]
          },
          "metadata": {},
          "execution_count": 21
        }
      ]
    },
    {
      "cell_type": "code",
      "source": [
        "b =np.array([1,0,9,1])\n",
        "a+b"
      ],
      "metadata": {
        "colab": {
          "base_uri": "https://localhost:8080/"
        },
        "id": "00QGNkdtv1xe",
        "outputId": "28bfc579-a80e-465b-8920-3a5f7a4ae5c9"
      },
      "execution_count": 22,
      "outputs": [
        {
          "output_type": "execute_result",
          "data": {
            "text/plain": [
              "array([ 2,  2, 12,  5])"
            ]
          },
          "metadata": {},
          "execution_count": 22
        }
      ]
    },
    {
      "cell_type": "code",
      "source": [
        "#take sin\n",
        "np.sin(a)"
      ],
      "metadata": {
        "colab": {
          "base_uri": "https://localhost:8080/"
        },
        "id": "IySt5tNKv7lA",
        "outputId": "81053ed5-4935-467e-af1e-1a500ce71d1f"
      },
      "execution_count": 23,
      "outputs": [
        {
          "output_type": "execute_result",
          "data": {
            "text/plain": [
              "array([ 0.84147098,  0.90929743,  0.14112001, -0.7568025 ])"
            ]
          },
          "metadata": {},
          "execution_count": 23
        }
      ]
    },
    {
      "cell_type": "markdown",
      "source": [
        "Linear algebra\n"
      ],
      "metadata": {
        "id": "4jDsNTIAcIJs"
      }
    },
    {
      "cell_type": "code",
      "source": [
        "a = np.ones((2,3))\n",
        "print(a)\n",
        "b = np.full((3,2),2)\n",
        "print(b)"
      ],
      "metadata": {
        "colab": {
          "base_uri": "https://localhost:8080/"
        },
        "id": "v8SGKvuRcLf9",
        "outputId": "ba49e932-b1cf-47f7-e421-152b67c4f463"
      },
      "execution_count": 5,
      "outputs": [
        {
          "output_type": "stream",
          "name": "stdout",
          "text": [
            "[[1. 1. 1.]\n",
            " [1. 1. 1.]]\n",
            "[[2 2]\n",
            " [2 2]\n",
            " [2 2]]\n"
          ]
        }
      ]
    },
    {
      "cell_type": "code",
      "source": [
        "np.matmul(a,b)"
      ],
      "metadata": {
        "colab": {
          "base_uri": "https://localhost:8080/"
        },
        "id": "RP6pHzt6cqi3",
        "outputId": "1fcb2d3c-48cb-4379-b64f-a58097e118e1"
      },
      "execution_count": 6,
      "outputs": [
        {
          "output_type": "execute_result",
          "data": {
            "text/plain": [
              "array([[6., 6.],\n",
              "       [6., 6.]])"
            ]
          },
          "metadata": {},
          "execution_count": 6
        }
      ]
    },
    {
      "cell_type": "code",
      "source": [
        "a = np.array([[1,3,3],[4,5,6],[9,8,7]])\n",
        "print(a)\n",
        "det_a = np.linalg.det(a)\n",
        "det_a"
      ],
      "metadata": {
        "colab": {
          "base_uri": "https://localhost:8080/"
        },
        "id": "ZXigOEzgcwvI",
        "outputId": "e0f7686b-2ee3-4306-dcc2-f6bd9668e242"
      },
      "execution_count": 10,
      "outputs": [
        {
          "output_type": "stream",
          "name": "stdout",
          "text": [
            "[[1 3 3]\n",
            " [4 5 6]\n",
            " [9 8 7]]\n"
          ]
        },
        {
          "output_type": "execute_result",
          "data": {
            "text/plain": [
              "26.000000000000004"
            ]
          },
          "metadata": {},
          "execution_count": 10
        }
      ]
    },
    {
      "cell_type": "markdown",
      "source": [
        "References - https://numpy.org/doc/stable/reference/routines.linalg.html\n",
        "\n",
        "there are many different types of linear algebra we can perform using np linear algebra **librart**"
      ],
      "metadata": {
        "id": "DbxDCk_-fiN5"
      }
    },
    {
      "cell_type": "markdown",
      "source": [
        "#Statistics"
      ],
      "metadata": {
        "id": "ZBuGjAU1f2JD"
      }
    },
    {
      "cell_type": "code",
      "source": [
        "stats = np.array([[1,2,3],[3,1,2]])\n",
        "stats.min(axis=0)"
      ],
      "metadata": {
        "colab": {
          "base_uri": "https://localhost:8080/"
        },
        "id": "Izq0-7-Wf5ck",
        "outputId": "5c3b2af0-025e-47bd-a0c8-dec71ba9fb14"
      },
      "execution_count": 17,
      "outputs": [
        {
          "output_type": "execute_result",
          "data": {
            "text/plain": [
              "array([1, 1, 2])"
            ]
          },
          "metadata": {},
          "execution_count": 17
        }
      ]
    },
    {
      "cell_type": "code",
      "source": [
        "stats = np.array([[1, 2, 3], [3, 1, 2]])\n",
        "\n",
        "min_values = stats.min(axis=0)\n",
        "\n",
        "print(min_values)\n"
      ],
      "metadata": {
        "colab": {
          "base_uri": "https://localhost:8080/"
        },
        "id": "BjwSpJIxg01U",
        "outputId": "dd8916b6-041d-403a-f030-f2051204e224"
      },
      "execution_count": 18,
      "outputs": [
        {
          "output_type": "stream",
          "name": "stdout",
          "text": [
            "[1 1 2]\n"
          ]
        }
      ]
    },
    {
      "cell_type": "markdown",
      "source": [
        "axis=0 specifies that the minimum operation should be performed along the rows, meaning it calculates the minimum value for each column.\n",
        "\n",
        "Here's how it works:\n",
        "\n",
        "Along the rows axis (axis 0), NumPy considers each column separately.\n",
        "For the first column [1, 3], the minimum value is 1.\n",
        "For the second column [2, 1], the minimum value is 1.\n",
        "For the third column [3, 2], the minimum value is 2.\n",
        "So, the output [1, 1, 2] represents the minimum value for each column in the array stats, as the operation was performed along the rows (axis 0)."
      ],
      "metadata": {
        "id": "_Gbp8mbQlPF8"
      }
    },
    {
      "cell_type": "code",
      "source": [
        "\n",
        "\n",
        "stats = np.array([[1, 2, 3], [3, 1, 2]])\n",
        "\n",
        "min_values = stats.min(axis=1)\n",
        "\n",
        "print(min_values)\n"
      ],
      "metadata": {
        "colab": {
          "base_uri": "https://localhost:8080/"
        },
        "id": "_yYtOK7_llvc",
        "outputId": "2e783397-8b65-4030-bc61-8f68b946fa13"
      },
      "execution_count": 2,
      "outputs": [
        {
          "output_type": "stream",
          "name": "stdout",
          "text": [
            "[1 1]\n"
          ]
        }
      ]
    },
    {
      "cell_type": "code",
      "source": [
        "stats.sum(axis=1)"
      ],
      "metadata": {
        "colab": {
          "base_uri": "https://localhost:8080/"
        },
        "id": "iJ2Wazwm31Xm",
        "outputId": "e8c421a7-e7c1-4e13-bc8f-c85a5fd8948d"
      },
      "execution_count": 5,
      "outputs": [
        {
          "output_type": "execute_result",
          "data": {
            "text/plain": [
              "array([6, 6])"
            ]
          },
          "metadata": {},
          "execution_count": 5
        }
      ]
    },
    {
      "cell_type": "markdown",
      "source": [
        "With axis=1, the min() operation is performed along each row separately. Here's how it works:\n",
        "\n",
        "Along the columns axis (axis 1), NumPy considers each row separately.\n",
        "For the first row [1, 2, 3], the minimum value is 1.\n",
        "For the second row [3, 1, 2], the minimum value is 1.\n",
        "So, the output will be [1, 1], indicating the minimum value for each row in the array stats, as the operation was performed along the columns (axis 1)."
      ],
      "metadata": {
        "id": "pCUnCeMklnvc"
      }
    },
    {
      "cell_type": "markdown",
      "source": [
        "#Reorganizing arrays"
      ],
      "metadata": {
        "id": "dvFdc06G4g14"
      }
    },
    {
      "cell_type": "code",
      "source": [
        "before = np.array([[1,2,3,4],[5,6,7,8]])\n",
        "print(before)\n",
        "after = before.reshape((4,2))\n",
        "print(after)"
      ],
      "metadata": {
        "colab": {
          "base_uri": "https://localhost:8080/"
        },
        "id": "RkOr49K-4jC4",
        "outputId": "ce35f730-d189-445f-ef66-3ce131ce3d04"
      },
      "execution_count": 8,
      "outputs": [
        {
          "output_type": "stream",
          "name": "stdout",
          "text": [
            "[[1 2 3 4]\n",
            " [5 6 7 8]]\n",
            "[[1 2]\n",
            " [3 4]\n",
            " [5 6]\n",
            " [7 8]]\n"
          ]
        }
      ]
    },
    {
      "cell_type": "code",
      "source": [
        "#vertically stacking arrays\n",
        "v1 = np.array([1,2,3,4])\n",
        "v2 = np.array([5,6,7,8])\n",
        "v3 = np.vstack([v1,v2,v2,v2])\n",
        "print(v3)\n"
      ],
      "metadata": {
        "colab": {
          "base_uri": "https://localhost:8080/"
        },
        "id": "ShnNGIoV4l8H",
        "outputId": "41110130-b007-4148-81a7-323e650c2683"
      },
      "execution_count": 11,
      "outputs": [
        {
          "output_type": "stream",
          "name": "stdout",
          "text": [
            "[[1 2 3 4]\n",
            " [5 6 7 8]\n",
            " [5 6 7 8]\n",
            " [5 6 7 8]]\n"
          ]
        }
      ]
    },
    {
      "cell_type": "code",
      "source": [
        "#horizaontally stacking arrays\n",
        "h1 = np.ones((2,4))\n",
        "print(h1)\n",
        "h2 = np.zeros((2,2))\n",
        "print(h2)\n",
        "h3 = np.hstack((h1,h2))\n",
        "print(h3)"
      ],
      "metadata": {
        "colab": {
          "base_uri": "https://localhost:8080/"
        },
        "id": "zcyLtnV746pj",
        "outputId": "b1251c58-33e9-428e-e3a7-1ad593c7750d"
      },
      "execution_count": 13,
      "outputs": [
        {
          "output_type": "stream",
          "name": "stdout",
          "text": [
            "[[1. 1. 1. 1.]\n",
            " [1. 1. 1. 1.]]\n",
            "[[0. 0.]\n",
            " [0. 0.]]\n",
            "[[1. 1. 1. 1. 0. 0.]\n",
            " [1. 1. 1. 1. 0. 0.]]\n"
          ]
        }
      ]
    },
    {
      "cell_type": "markdown",
      "source": [
        "#Miscellaneous"
      ],
      "metadata": {
        "id": "OHqVI6yw5sru"
      }
    },
    {
      "cell_type": "code",
      "source": [
        "#getting data from txt\n",
        "filedata = np.genfromtxt('data.txt',delimiter=',')\n",
        "filedata = filedata.astype('int32')\n",
        "print(filedata)"
      ],
      "metadata": {
        "colab": {
          "base_uri": "https://localhost:8080/",
          "height": 193
        },
        "id": "Ytv-mdvTMEXy",
        "outputId": "3c95204f-9587-44a2-d0d4-daae8af6fde9"
      },
      "execution_count": 1,
      "outputs": [
        {
          "output_type": "error",
          "ename": "NameError",
          "evalue": "name 'np' is not defined",
          "traceback": [
            "\u001b[0;31m---------------------------------------------------------------------------\u001b[0m",
            "\u001b[0;31mNameError\u001b[0m                                 Traceback (most recent call last)",
            "\u001b[0;32m<ipython-input-1-51f3bdfe6179>\u001b[0m in \u001b[0;36m<cell line: 2>\u001b[0;34m()\u001b[0m\n\u001b[1;32m      1\u001b[0m \u001b[0;31m#getting data from txt\u001b[0m\u001b[0;34m\u001b[0m\u001b[0;34m\u001b[0m\u001b[0m\n\u001b[0;32m----> 2\u001b[0;31m \u001b[0mfiledata\u001b[0m \u001b[0;34m=\u001b[0m \u001b[0mnp\u001b[0m\u001b[0;34m.\u001b[0m\u001b[0mgenfromtxt\u001b[0m\u001b[0;34m(\u001b[0m\u001b[0;34m'data.txt'\u001b[0m\u001b[0;34m,\u001b[0m\u001b[0mdelimiter\u001b[0m\u001b[0;34m=\u001b[0m\u001b[0;34m','\u001b[0m\u001b[0;34m)\u001b[0m\u001b[0;34m\u001b[0m\u001b[0;34m\u001b[0m\u001b[0m\n\u001b[0m\u001b[1;32m      3\u001b[0m \u001b[0mfiledata\u001b[0m \u001b[0;34m=\u001b[0m \u001b[0mfiledata\u001b[0m\u001b[0;34m.\u001b[0m\u001b[0mastype\u001b[0m\u001b[0;34m(\u001b[0m\u001b[0;34m'int32'\u001b[0m\u001b[0;34m)\u001b[0m\u001b[0;34m\u001b[0m\u001b[0;34m\u001b[0m\u001b[0m\n\u001b[1;32m      4\u001b[0m \u001b[0mprint\u001b[0m\u001b[0;34m(\u001b[0m\u001b[0mfiledata\u001b[0m\u001b[0;34m)\u001b[0m\u001b[0;34m\u001b[0m\u001b[0;34m\u001b[0m\u001b[0m\n",
            "\u001b[0;31mNameError\u001b[0m: name 'np' is not defined"
          ]
        }
      ]
    },
    {
      "cell_type": "code",
      "source": [
        "#getting data from txt\n",
        "filedata = np.genfromtxt('data.txt',delimiter=',',dtype ='int32')\n",
        "\n",
        "print(filedata)"
      ],
      "metadata": {
        "colab": {
          "base_uri": "https://localhost:8080/"
        },
        "id": "b2-rlGa750fg",
        "outputId": "c53e17a0-b2ed-419d-f674-e87f53733d6f"
      },
      "execution_count": 7,
      "outputs": [
        {
          "output_type": "stream",
          "name": "stdout",
          "text": [
            "[[  1  13  21  11 196  75   4   3  34   6   7   8   0   1   2   3   4   5]\n",
            " [  3  42  12  33 766  75   4  55   6   4   3   4   5   6   7   0  11  12]\n",
            " [  1  22  33  11 999  11   2   1  78   0   1   2   9   8   7   1  76  88]]\n"
          ]
        }
      ]
    },
    {
      "cell_type": "markdown",
      "source": [
        "#Boolean masking and advanced indexing"
      ],
      "metadata": {
        "id": "xQVj5DCYMitO"
      }
    },
    {
      "cell_type": "code",
      "source": [
        "filedata[filedata>50]"
      ],
      "metadata": {
        "colab": {
          "base_uri": "https://localhost:8080/"
        },
        "id": "_5KsLkOnMl6x",
        "outputId": "aaf03071-acd9-4ecd-adf3-ce2279e97dc1"
      },
      "execution_count": 8,
      "outputs": [
        {
          "output_type": "execute_result",
          "data": {
            "text/plain": [
              "array([196,  75, 766,  75,  55, 999,  78,  76,  88], dtype=int32)"
            ]
          },
          "metadata": {},
          "execution_count": 8
        }
      ]
    },
    {
      "cell_type": "code",
      "source": [
        "#you can index with a list in numpy\n",
        "a = np.array([1,2,3,4,5,6,7,8,9])\n",
        "a[[1,2,8]]"
      ],
      "metadata": {
        "colab": {
          "base_uri": "https://localhost:8080/"
        },
        "id": "oKC0UZoANIUk",
        "outputId": "4e693f85-de75-49a2-e920-dccd2bea2686"
      },
      "execution_count": 9,
      "outputs": [
        {
          "output_type": "execute_result",
          "data": {
            "text/plain": [
              "array([2, 3, 9])"
            ]
          },
          "metadata": {},
          "execution_count": 9
        }
      ]
    },
    {
      "cell_type": "code",
      "source": [
        "#tell us if theres value greater than 50 in every column,axis =0 so row wise evaluation is done\n",
        "np.any(filedata>50,axis=0)"
      ],
      "metadata": {
        "colab": {
          "base_uri": "https://localhost:8080/"
        },
        "id": "-8ncwrf6N04P",
        "outputId": "f6536363-f27b-4fd2-86af-e46d3b0fcaf4"
      },
      "execution_count": 10,
      "outputs": [
        {
          "output_type": "execute_result",
          "data": {
            "text/plain": [
              "array([False, False, False, False,  True,  True, False,  True,  True,\n",
              "       False, False, False, False, False, False, False,  True,  True])"
            ]
          },
          "metadata": {},
          "execution_count": 10
        }
      ]
    },
    {
      "cell_type": "code",
      "source": [
        "np.all(filedata>50,axis=0)  #returns true if every value in the column is >50"
      ],
      "metadata": {
        "colab": {
          "base_uri": "https://localhost:8080/"
        },
        "id": "YdlYsuNDOlxU",
        "outputId": "c519bbc5-d7e7-4e49-c780-58d49f27dd64"
      },
      "execution_count": 12,
      "outputs": [
        {
          "output_type": "execute_result",
          "data": {
            "text/plain": [
              "array([False, False, False, False,  True, False, False, False, False,\n",
              "       False, False, False, False, False, False, False, False, False])"
            ]
          },
          "metadata": {},
          "execution_count": 12
        }
      ]
    },
    {
      "cell_type": "code",
      "source": [
        "np.any(filedata>50,axis=1)"
      ],
      "metadata": {
        "colab": {
          "base_uri": "https://localhost:8080/"
        },
        "id": "QikewTH-OKih",
        "outputId": "35bd7251-70e0-483a-94dc-72d1756e1be5"
      },
      "execution_count": 11,
      "outputs": [
        {
          "output_type": "execute_result",
          "data": {
            "text/plain": [
              "array([ True,  True,  True])"
            ]
          },
          "metadata": {},
          "execution_count": 11
        }
      ]
    },
    {
      "cell_type": "code",
      "source": [
        "((filedata>50) & (filedata<100))"
      ],
      "metadata": {
        "colab": {
          "base_uri": "https://localhost:8080/"
        },
        "id": "TgcELoBXOoiX",
        "outputId": "cf00fadf-1664-4383-a327-d257305338f1"
      },
      "execution_count": 18,
      "outputs": [
        {
          "output_type": "execute_result",
          "data": {
            "text/plain": [
              "array([[False, False, False, False, False,  True, False, False, False,\n",
              "        False, False, False, False, False, False, False, False, False],\n",
              "       [False, False, False, False, False,  True, False,  True, False,\n",
              "        False, False, False, False, False, False, False, False, False],\n",
              "       [False, False, False, False, False, False, False, False,  True,\n",
              "        False, False, False, False, False, False, False,  True,  True]])"
            ]
          },
          "metadata": {},
          "execution_count": 18
        }
      ]
    },
    {
      "cell_type": "code",
      "source": [
        "(~((filedata>50) & (filedata<100)))"
      ],
      "metadata": {
        "colab": {
          "base_uri": "https://localhost:8080/"
        },
        "id": "a3mIV3vcPB7A",
        "outputId": "22c527b2-cba7-4ffa-e890-c6f772cecb1f"
      },
      "execution_count": 19,
      "outputs": [
        {
          "output_type": "execute_result",
          "data": {
            "text/plain": [
              "array([[ True,  True,  True,  True,  True, False,  True,  True,  True,\n",
              "         True,  True,  True,  True,  True,  True,  True,  True,  True],\n",
              "       [ True,  True,  True,  True,  True, False,  True, False,  True,\n",
              "         True,  True,  True,  True,  True,  True,  True,  True,  True],\n",
              "       [ True,  True,  True,  True,  True,  True,  True,  True, False,\n",
              "         True,  True,  True,  True,  True,  True,  True, False, False]])"
            ]
          },
          "metadata": {},
          "execution_count": 19
        }
      ]
    },
    {
      "cell_type": "code",
      "source": [],
      "metadata": {
        "id": "Eco-2kTWPfLD"
      },
      "execution_count": null,
      "outputs": []
    }
  ]
}